{
  "nbformat": 4,
  "nbformat_minor": 0,
  "metadata": {
    "colab": {
      "provenance": [],
      "authorship_tag": "ABX9TyN5e1PE3yAxggQmSOArf0VG",
      "include_colab_link": true
    },
    "kernelspec": {
      "name": "python3",
      "display_name": "Python 3"
    },
    "language_info": {
      "name": "python"
    }
  },
  "cells": [
    {
      "cell_type": "markdown",
      "metadata": {
        "id": "view-in-github",
        "colab_type": "text"
      },
      "source": [
        "<a href=\"https://colab.research.google.com/github/Harl-Melendez/58009-DSAA/blob/main/Practical_Lab_Exam_(phyton).ipynb\" target=\"_parent\"><img src=\"https://colab.research.google.com/assets/colab-badge.svg\" alt=\"Open In Colab\"/></a>"
      ]
    },
    {
      "cell_type": "code",
      "source": [
        "total = 0\n",
        "\n",
        "score = [26, 49, 98, 87, 62, 75]\n",
        "\n",
        "\n",
        "for score in score:\n",
        "    if score % 2 == 1:\n",
        "        total += score\n",
        "\n",
        "print(\"Sum of odd test scores:\", total)\n"
      ],
      "metadata": {
        "colab": {
          "base_uri": "https://localhost:8080/"
        },
        "id": "x9OdepSdcC--",
        "outputId": "9c28d2e5-707a-4287-ff0c-1ef237ba59b7"
      },
      "execution_count": 8,
      "outputs": [
        {
          "output_type": "stream",
          "name": "stdout",
          "text": [
            "Sum of odd test scores: 211\n"
          ]
        }
      ]
    }
  ]
}