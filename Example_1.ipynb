{
  "nbformat": 4,
  "nbformat_minor": 0,
  "metadata": {
    "colab": {
      "provenance": [],
      "authorship_tag": "ABX9TyOnYuSfTSO3+CJHmN0K0yM+",
      "include_colab_link": true
    },
    "kernelspec": {
      "name": "python3",
      "display_name": "Python 3"
    },
    "language_info": {
      "name": "python"
    }
  },
  "cells": [
    {
      "cell_type": "markdown",
      "metadata": {
        "id": "view-in-github",
        "colab_type": "text"
      },
      "source": [
        "<a href=\"https://colab.research.google.com/github/Harl-Melendez/58009-DSAA/blob/main/Example_1.ipynb\" target=\"_parent\"><img src=\"https://colab.research.google.com/assets/colab-badge.svg\" alt=\"Open In Colab\"/></a>"
      ]
    },
    {
      "cell_type": "markdown",
      "source": [
        "Example 1"
      ],
      "metadata": {
        "id": "EbJ9-ayJ7w_0"
      }
    },
    {
      "cell_type": "code",
      "execution_count": 20,
      "metadata": {
        "id": "0gU2zikhHkMT",
        "colab": {
          "base_uri": "https://localhost:8080/"
        },
        "outputId": "a4300406-4a18-4cf5-c0f2-9f16b1799aa0"
      },
      "outputs": [
        {
          "output_type": "stream",
          "name": "stdout",
          "text": [
            "The area of the rectangle is: 15\n"
          ]
        }
      ],
      "source": [
        "def rectangle_area(length, width):\n",
        "    return length * width\n",
        "\n",
        "length = 5\n",
        "width = 3\n",
        "\n",
        "area = rectangle_area(length, width)\n",
        "print(\"The area of the rectangle is:\", area)\n"
      ]
    }
  ]
}